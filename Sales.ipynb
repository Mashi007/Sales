{
  "nbformat": 4,
  "nbformat_minor": 0,
  "metadata": {
    "colab": {
      "provenance": [],
      "mount_file_id": "11ejT5lpnbIHehoIjSfmIjxKDx32UAZ4n",
      "authorship_tag": "ABX9TyMpP6UjSKwuwLfgxLSYY4OR",
      "include_colab_link": true
    },
    "kernelspec": {
      "name": "python3",
      "display_name": "Python 3"
    },
    "language_info": {
      "name": "python"
    }
  },
  "cells": [
    {
      "cell_type": "markdown",
      "metadata": {
        "id": "view-in-github",
        "colab_type": "text"
      },
      "source": [
        "<a href=\"https://colab.research.google.com/github/Mashi007/Sales/blob/Documentos/Sales.ipynb\" target=\"_parent\"><img src=\"https://colab.research.google.com/assets/colab-badge.svg\" alt=\"Open In Colab\"/></a>"
      ]
    },
    {
      "cell_type": "markdown",
      "source": [
        "---\n",
        "# **1. Marco de datos**\n",
        "\n",
        "---"
      ],
      "metadata": {
        "id": "nuvx1vHONlAZ"
      }
    },
    {
      "cell_type": "code",
      "execution_count": 2,
      "metadata": {
        "colab": {
          "base_uri": "https://localhost:8080/",
          "height": 357
        },
        "id": "ujntfJkjJ4OV",
        "outputId": "8c86d8d6-501f-48f9-912d-dc0fd3150fc7"
      },
      "outputs": [
        {
          "output_type": "execute_result",
          "data": {
            "text/plain": [
              "  Item_Identifier  Item_Weight Item_Fat_Content  Item_Visibility  \\\n",
              "0           FDA15         9.30          Low Fat         0.016047   \n",
              "1           DRC01         5.92          Regular         0.019278   \n",
              "2           FDN15        17.50          Low Fat         0.016760   \n",
              "3           FDX07        19.20          Regular         0.000000   \n",
              "4           NCD19         8.93          Low Fat         0.000000   \n",
              "\n",
              "               Item_Type  Item_MRP Outlet_Identifier  \\\n",
              "0                  Dairy  249.8092            OUT049   \n",
              "1            Soft Drinks   48.2692            OUT018   \n",
              "2                   Meat  141.6180            OUT049   \n",
              "3  Fruits and Vegetables  182.0950            OUT010   \n",
              "4              Household   53.8614            OUT013   \n",
              "\n",
              "   Outlet_Establishment_Year Outlet_Size Outlet_Location_Type  \\\n",
              "0                       1999      Medium               Tier 1   \n",
              "1                       2009      Medium               Tier 3   \n",
              "2                       1999      Medium               Tier 1   \n",
              "3                       1998         NaN               Tier 3   \n",
              "4                       1987        High               Tier 3   \n",
              "\n",
              "         Outlet_Type  Item_Outlet_Sales  \n",
              "0  Supermarket Type1          3735.1380  \n",
              "1  Supermarket Type2           443.4228  \n",
              "2  Supermarket Type1          2097.2700  \n",
              "3      Grocery Store           732.3800  \n",
              "4  Supermarket Type1           994.7052  "
            ],
            "text/html": [
              "\n",
              "  <div id=\"df-1067617e-a0d9-4a0d-bb3b-d2ec27317e43\">\n",
              "    <div class=\"colab-df-container\">\n",
              "      <div>\n",
              "<style scoped>\n",
              "    .dataframe tbody tr th:only-of-type {\n",
              "        vertical-align: middle;\n",
              "    }\n",
              "\n",
              "    .dataframe tbody tr th {\n",
              "        vertical-align: top;\n",
              "    }\n",
              "\n",
              "    .dataframe thead th {\n",
              "        text-align: right;\n",
              "    }\n",
              "</style>\n",
              "<table border=\"1\" class=\"dataframe\">\n",
              "  <thead>\n",
              "    <tr style=\"text-align: right;\">\n",
              "      <th></th>\n",
              "      <th>Item_Identifier</th>\n",
              "      <th>Item_Weight</th>\n",
              "      <th>Item_Fat_Content</th>\n",
              "      <th>Item_Visibility</th>\n",
              "      <th>Item_Type</th>\n",
              "      <th>Item_MRP</th>\n",
              "      <th>Outlet_Identifier</th>\n",
              "      <th>Outlet_Establishment_Year</th>\n",
              "      <th>Outlet_Size</th>\n",
              "      <th>Outlet_Location_Type</th>\n",
              "      <th>Outlet_Type</th>\n",
              "      <th>Item_Outlet_Sales</th>\n",
              "    </tr>\n",
              "  </thead>\n",
              "  <tbody>\n",
              "    <tr>\n",
              "      <th>0</th>\n",
              "      <td>FDA15</td>\n",
              "      <td>9.30</td>\n",
              "      <td>Low Fat</td>\n",
              "      <td>0.016047</td>\n",
              "      <td>Dairy</td>\n",
              "      <td>249.8092</td>\n",
              "      <td>OUT049</td>\n",
              "      <td>1999</td>\n",
              "      <td>Medium</td>\n",
              "      <td>Tier 1</td>\n",
              "      <td>Supermarket Type1</td>\n",
              "      <td>3735.1380</td>\n",
              "    </tr>\n",
              "    <tr>\n",
              "      <th>1</th>\n",
              "      <td>DRC01</td>\n",
              "      <td>5.92</td>\n",
              "      <td>Regular</td>\n",
              "      <td>0.019278</td>\n",
              "      <td>Soft Drinks</td>\n",
              "      <td>48.2692</td>\n",
              "      <td>OUT018</td>\n",
              "      <td>2009</td>\n",
              "      <td>Medium</td>\n",
              "      <td>Tier 3</td>\n",
              "      <td>Supermarket Type2</td>\n",
              "      <td>443.4228</td>\n",
              "    </tr>\n",
              "    <tr>\n",
              "      <th>2</th>\n",
              "      <td>FDN15</td>\n",
              "      <td>17.50</td>\n",
              "      <td>Low Fat</td>\n",
              "      <td>0.016760</td>\n",
              "      <td>Meat</td>\n",
              "      <td>141.6180</td>\n",
              "      <td>OUT049</td>\n",
              "      <td>1999</td>\n",
              "      <td>Medium</td>\n",
              "      <td>Tier 1</td>\n",
              "      <td>Supermarket Type1</td>\n",
              "      <td>2097.2700</td>\n",
              "    </tr>\n",
              "    <tr>\n",
              "      <th>3</th>\n",
              "      <td>FDX07</td>\n",
              "      <td>19.20</td>\n",
              "      <td>Regular</td>\n",
              "      <td>0.000000</td>\n",
              "      <td>Fruits and Vegetables</td>\n",
              "      <td>182.0950</td>\n",
              "      <td>OUT010</td>\n",
              "      <td>1998</td>\n",
              "      <td>NaN</td>\n",
              "      <td>Tier 3</td>\n",
              "      <td>Grocery Store</td>\n",
              "      <td>732.3800</td>\n",
              "    </tr>\n",
              "    <tr>\n",
              "      <th>4</th>\n",
              "      <td>NCD19</td>\n",
              "      <td>8.93</td>\n",
              "      <td>Low Fat</td>\n",
              "      <td>0.000000</td>\n",
              "      <td>Household</td>\n",
              "      <td>53.8614</td>\n",
              "      <td>OUT013</td>\n",
              "      <td>1987</td>\n",
              "      <td>High</td>\n",
              "      <td>Tier 3</td>\n",
              "      <td>Supermarket Type1</td>\n",
              "      <td>994.7052</td>\n",
              "    </tr>\n",
              "  </tbody>\n",
              "</table>\n",
              "</div>\n",
              "      <button class=\"colab-df-convert\" onclick=\"convertToInteractive('df-1067617e-a0d9-4a0d-bb3b-d2ec27317e43')\"\n",
              "              title=\"Convert this dataframe to an interactive table.\"\n",
              "              style=\"display:none;\">\n",
              "        \n",
              "  <svg xmlns=\"http://www.w3.org/2000/svg\" height=\"24px\"viewBox=\"0 0 24 24\"\n",
              "       width=\"24px\">\n",
              "    <path d=\"M0 0h24v24H0V0z\" fill=\"none\"/>\n",
              "    <path d=\"M18.56 5.44l.94 2.06.94-2.06 2.06-.94-2.06-.94-.94-2.06-.94 2.06-2.06.94zm-11 1L8.5 8.5l.94-2.06 2.06-.94-2.06-.94L8.5 2.5l-.94 2.06-2.06.94zm10 10l.94 2.06.94-2.06 2.06-.94-2.06-.94-.94-2.06-.94 2.06-2.06.94z\"/><path d=\"M17.41 7.96l-1.37-1.37c-.4-.4-.92-.59-1.43-.59-.52 0-1.04.2-1.43.59L10.3 9.45l-7.72 7.72c-.78.78-.78 2.05 0 2.83L4 21.41c.39.39.9.59 1.41.59.51 0 1.02-.2 1.41-.59l7.78-7.78 2.81-2.81c.8-.78.8-2.07 0-2.86zM5.41 20L4 18.59l7.72-7.72 1.47 1.35L5.41 20z\"/>\n",
              "  </svg>\n",
              "      </button>\n",
              "      \n",
              "  <style>\n",
              "    .colab-df-container {\n",
              "      display:flex;\n",
              "      flex-wrap:wrap;\n",
              "      gap: 12px;\n",
              "    }\n",
              "\n",
              "    .colab-df-convert {\n",
              "      background-color: #E8F0FE;\n",
              "      border: none;\n",
              "      border-radius: 50%;\n",
              "      cursor: pointer;\n",
              "      display: none;\n",
              "      fill: #1967D2;\n",
              "      height: 32px;\n",
              "      padding: 0 0 0 0;\n",
              "      width: 32px;\n",
              "    }\n",
              "\n",
              "    .colab-df-convert:hover {\n",
              "      background-color: #E2EBFA;\n",
              "      box-shadow: 0px 1px 2px rgba(60, 64, 67, 0.3), 0px 1px 3px 1px rgba(60, 64, 67, 0.15);\n",
              "      fill: #174EA6;\n",
              "    }\n",
              "\n",
              "    [theme=dark] .colab-df-convert {\n",
              "      background-color: #3B4455;\n",
              "      fill: #D2E3FC;\n",
              "    }\n",
              "\n",
              "    [theme=dark] .colab-df-convert:hover {\n",
              "      background-color: #434B5C;\n",
              "      box-shadow: 0px 1px 3px 1px rgba(0, 0, 0, 0.15);\n",
              "      filter: drop-shadow(0px 1px 2px rgba(0, 0, 0, 0.3));\n",
              "      fill: #FFFFFF;\n",
              "    }\n",
              "  </style>\n",
              "\n",
              "      <script>\n",
              "        const buttonEl =\n",
              "          document.querySelector('#df-1067617e-a0d9-4a0d-bb3b-d2ec27317e43 button.colab-df-convert');\n",
              "        buttonEl.style.display =\n",
              "          google.colab.kernel.accessAllowed ? 'block' : 'none';\n",
              "\n",
              "        async function convertToInteractive(key) {\n",
              "          const element = document.querySelector('#df-1067617e-a0d9-4a0d-bb3b-d2ec27317e43');\n",
              "          const dataTable =\n",
              "            await google.colab.kernel.invokeFunction('convertToInteractive',\n",
              "                                                     [key], {});\n",
              "          if (!dataTable) return;\n",
              "\n",
              "          const docLinkHtml = 'Like what you see? Visit the ' +\n",
              "            '<a target=\"_blank\" href=https://colab.research.google.com/notebooks/data_table.ipynb>data table notebook</a>'\n",
              "            + ' to learn more about interactive tables.';\n",
              "          element.innerHTML = '';\n",
              "          dataTable['output_type'] = 'display_data';\n",
              "          await google.colab.output.renderOutput(dataTable, element);\n",
              "          const docLink = document.createElement('div');\n",
              "          docLink.innerHTML = docLinkHtml;\n",
              "          element.appendChild(docLink);\n",
              "        }\n",
              "      </script>\n",
              "    </div>\n",
              "  </div>\n",
              "  "
            ]
          },
          "metadata": {},
          "execution_count": 2
        }
      ],
      "source": [
        "import pandas as pd\n",
        "\n",
        "# Importar el archivo CSV\n",
        "df_sales = pd.read_csv(\"/content/sales_predictions.csv\")\n",
        "\n",
        "# Imprime las primeras filas del DataFrame\n",
        "df_sales.head()\n",
        "\n"
      ]
    },
    {
      "cell_type": "markdown",
      "source": [
        "---\n",
        "# **2. Análisis de calidad**\n",
        "\n",
        "---\n"
      ],
      "metadata": {
        "id": "eJP6Z2rkN7WZ"
      }
    },
    {
      "cell_type": "markdown",
      "source": [
        "**Estructura de la matriz**: Análisis de filas y columnas"
      ],
      "metadata": {
        "id": "4qffXQtffNTH"
      }
    },
    {
      "cell_type": "code",
      "source": [
        "df_sales.shape\n"
      ],
      "metadata": {
        "colab": {
          "base_uri": "https://localhost:8080/"
        },
        "id": "NLXkxbFEe3S1",
        "outputId": "26325a60-1113-4837-9a75-ada4cd4bc7b7"
      },
      "execution_count": 3,
      "outputs": [
        {
          "output_type": "execute_result",
          "data": {
            "text/plain": [
              "(8523, 12)"
            ]
          },
          "metadata": {},
          "execution_count": 3
        }
      ]
    },
    {
      "cell_type": "markdown",
      "source": [
        "**Análisis de duplicados**: No existe duplicados"
      ],
      "metadata": {
        "id": "lgdCThbBT8Yj"
      }
    },
    {
      "cell_type": "code",
      "source": [
        "\n",
        "# Identificar los duplicados\n",
        "duplicates = df_sales[df_sales.duplicated()]\n",
        "\n",
        "# Imprimir los registros duplicados\n",
        "print(\"Registros duplicados:\")\n",
        "print(duplicates)\n",
        "\n",
        "\n",
        "\n"
      ],
      "metadata": {
        "colab": {
          "base_uri": "https://localhost:8080/"
        },
        "id": "p9BQeE4hIPkY",
        "outputId": "d8a38fde-aec5-44ef-82b5-54ee143d6dd7"
      },
      "execution_count": 21,
      "outputs": [
        {
          "output_type": "stream",
          "name": "stdout",
          "text": [
            "Registros duplicados:\n",
            "Empty DataFrame\n",
            "Columns: [Item_Identifier, Item_Weight, Item_Fat_Content, Item_Visibility, Item_Type, Item_MRP, Outlet_Identifier, Outlet_Establishment_Year, Outlet_Size, Outlet_Location_Type, Outlet_Type, Item_Outlet_Sales]\n",
            "Index: []\n"
          ]
        }
      ]
    },
    {
      "cell_type": "markdown",
      "source": [
        "**Análisis si las columanas corresponde al tipo de información que corresponden (numero u objeto)**: Todas las variables corresponden a la naturaleza requerida, es decir, son numeros u objetos de manera correspondiente. Sin embargo, es necesario analizar las variables Item_Weight (7060 datos) y Outlet_Size (6113 datos), porque no tienen el total posible de referencias, dado que el total de la matriz es 8523\n",
        "\n",
        "\n",
        "\n",
        "\n",
        "\n",
        "\n",
        "\n"
      ],
      "metadata": {
        "id": "hjCHJPtJO3Jn"
      }
    },
    {
      "cell_type": "code",
      "source": [
        "df_sales.info()\n"
      ],
      "metadata": {
        "colab": {
          "base_uri": "https://localhost:8080/"
        },
        "id": "mqOQwEFMK2X4",
        "outputId": "c5ac334f-9490-4593-e710-59a9914728b6"
      },
      "execution_count": 81,
      "outputs": [
        {
          "output_type": "stream",
          "name": "stdout",
          "text": [
            "<class 'pandas.core.frame.DataFrame'>\n",
            "RangeIndex: 8523 entries, 0 to 8522\n",
            "Data columns (total 12 columns):\n",
            " #   Column                     Non-Null Count  Dtype  \n",
            "---  ------                     --------------  -----  \n",
            " 0   Item_Identifier            8523 non-null   object \n",
            " 1   Item_Weight                7060 non-null   float64\n",
            " 2   Item_Fat_Content           8523 non-null   object \n",
            " 3   Item_Visibility            8523 non-null   float64\n",
            " 4   Item_Type                  8523 non-null   object \n",
            " 5   Item_MRP                   8523 non-null   float64\n",
            " 6   Outlet_Identifier          8523 non-null   object \n",
            " 7   Outlet_Establishment_Year  8523 non-null   int64  \n",
            " 8   Outlet_Size                6113 non-null   object \n",
            " 9   Outlet_Location_Type       8523 non-null   object \n",
            " 10  Outlet_Type                8523 non-null   object \n",
            " 11  Item_Outlet_Sales          8523 non-null   float64\n",
            "dtypes: float64(4), int64(1), object(7)\n",
            "memory usage: 799.2+ KB\n"
          ]
        }
      ]
    },
    {
      "cell_type": "markdown",
      "source": [
        "**Completar celdas vacias columan Item_Weight**: Segun la columna Item_Identifier, se puede llenar las celdas vacias ya que los ID de cada producto tiene un peso comun que puede ser usado                "
      ],
      "metadata": {
        "id": "fwkfGY_rlHxK"
      }
    },
    {
      "cell_type": "code",
      "source": [
        "\n",
        "# Cargar los datos en un DataFrame\n",
        "df_sales = pd.read_csv(\"sales_predictions.csv\")\n",
        "\n",
        "# Calcular la media de \"Item_Weight\" para cada valor único de \"Item_Identifier\"\n",
        "item_weight_mean = df_sales.groupby(\"Item_Identifier\")[\"Item_Weight\"].mean()\n",
        "\n",
        "# Iterar sobre el DataFrame y reemplazar los valores nulos en la columna \"Item_Weight\"\n",
        "for idx, row in df_sales.iterrows():\n",
        "    if pd.isnull(row[\"Item_Weight\"]):\n",
        "        df_sales.at[idx, \"Item_Weight\"] = item_weight_mean[row[\"Item_Identifier\"]]\n",
        "\n",
        "# Mostrar el DataFrame actualizado\n",
        "print(df_sales.head())\n"
      ],
      "metadata": {
        "colab": {
          "base_uri": "https://localhost:8080/"
        },
        "id": "i5W8lubRgUID",
        "outputId": "7d105a60-13b3-4c7e-a869-d9bc26b8380e"
      },
      "execution_count": 83,
      "outputs": [
        {
          "output_type": "stream",
          "name": "stdout",
          "text": [
            "  Item_Identifier  Item_Weight Item_Fat_Content  Item_Visibility  \\\n",
            "0           FDA15         9.30          Low Fat         0.016047   \n",
            "1           DRC01         5.92          Regular         0.019278   \n",
            "2           FDN15        17.50          Low Fat         0.016760   \n",
            "3           FDX07        19.20          Regular         0.000000   \n",
            "4           NCD19         8.93          Low Fat         0.000000   \n",
            "\n",
            "               Item_Type  Item_MRP Outlet_Identifier  \\\n",
            "0                  Dairy  249.8092            OUT049   \n",
            "1            Soft Drinks   48.2692            OUT018   \n",
            "2                   Meat  141.6180            OUT049   \n",
            "3  Fruits and Vegetables  182.0950            OUT010   \n",
            "4              Household   53.8614            OUT013   \n",
            "\n",
            "   Outlet_Establishment_Year Outlet_Size Outlet_Location_Type  \\\n",
            "0                       1999      Medium               Tier 1   \n",
            "1                       2009      Medium               Tier 3   \n",
            "2                       1999      Medium               Tier 1   \n",
            "3                       1998         NaN               Tier 3   \n",
            "4                       1987        High               Tier 3   \n",
            "\n",
            "         Outlet_Type  Item_Outlet_Sales  \n",
            "0  Supermarket Type1          3735.1380  \n",
            "1  Supermarket Type2           443.4228  \n",
            "2  Supermarket Type1          2097.2700  \n",
            "3      Grocery Store           732.3800  \n",
            "4  Supermarket Type1           994.7052  \n"
          ]
        }
      ]
    },
    {
      "cell_type": "markdown",
      "source": [
        "**Commprobación de celdas null en columna Item_Weight**: despues de aplicar criterio se comprueba que hay 4 filas con ID de producto que no cuentan con patron de peso extrapolable. Por lo que al ser 4 filas se elimina "
      ],
      "metadata": {
        "id": "ocgq6xktlnNk"
      }
    },
    {
      "cell_type": "code",
      "source": [
        "# Comprobación de celdas null\n",
        "df_sales.isnull().sum()"
      ],
      "metadata": {
        "colab": {
          "base_uri": "https://localhost:8080/"
        },
        "id": "HBzxRisogwBw",
        "outputId": "01fa55e5-cc56-4e76-d036-4e82d8c2f43c"
      },
      "execution_count": 84,
      "outputs": [
        {
          "output_type": "execute_result",
          "data": {
            "text/plain": [
              "Item_Identifier                 0\n",
              "Item_Weight                     4\n",
              "Item_Fat_Content                0\n",
              "Item_Visibility                 0\n",
              "Item_Type                       0\n",
              "Item_MRP                        0\n",
              "Outlet_Identifier               0\n",
              "Outlet_Establishment_Year       0\n",
              "Outlet_Size                  2410\n",
              "Outlet_Location_Type            0\n",
              "Outlet_Type                     0\n",
              "Item_Outlet_Sales               0\n",
              "dtype: int64"
            ]
          },
          "metadata": {},
          "execution_count": 84
        }
      ]
    },
    {
      "cell_type": "code",
      "source": [
        "# Identificación de casos\n",
        "null_values = df_sales[\"Item_Weight\"].isnull()\n",
        "print(null_values)\n"
      ],
      "metadata": {
        "colab": {
          "base_uri": "https://localhost:8080/"
        },
        "id": "KJynzPN_hwYL",
        "outputId": "c3b82b4f-cfd4-42f9-87f2-4cb5c0a1da89"
      },
      "execution_count": 85,
      "outputs": [
        {
          "output_type": "stream",
          "name": "stdout",
          "text": [
            "0       False\n",
            "1       False\n",
            "2       False\n",
            "3       False\n",
            "4       False\n",
            "        ...  \n",
            "8518    False\n",
            "8519    False\n",
            "8520    False\n",
            "8521    False\n",
            "8522    False\n",
            "Name: Item_Weight, Length: 8523, dtype: bool\n"
          ]
        }
      ]
    },
    {
      "cell_type": "code",
      "source": [
        "# Eliminación de 4 filas\n",
        "\n",
        "# Cargar los datos en un DataFrame\n",
        "df_sales = pd.read_csv(\"sales_predictions.csv\")\n",
        "\n",
        "# Eliminar las filas con valores nulos en la columna \"Item_Weight\"\n",
        "df_sales = df_sales.dropna(subset=[\"Item_Weight\"])\n",
        "\n",
        "# Imprimir el DataFrame actualizado\n",
        "print(df_sales.head())\n"
      ],
      "metadata": {
        "colab": {
          "base_uri": "https://localhost:8080/"
        },
        "id": "t_8__0i5knCY",
        "outputId": "dc3975ba-0a6b-469e-9632-9e3eb8f82ac5"
      },
      "execution_count": 86,
      "outputs": [
        {
          "output_type": "stream",
          "name": "stdout",
          "text": [
            "  Item_Identifier  Item_Weight Item_Fat_Content  Item_Visibility  \\\n",
            "0           FDA15         9.30          Low Fat         0.016047   \n",
            "1           DRC01         5.92          Regular         0.019278   \n",
            "2           FDN15        17.50          Low Fat         0.016760   \n",
            "3           FDX07        19.20          Regular         0.000000   \n",
            "4           NCD19         8.93          Low Fat         0.000000   \n",
            "\n",
            "               Item_Type  Item_MRP Outlet_Identifier  \\\n",
            "0                  Dairy  249.8092            OUT049   \n",
            "1            Soft Drinks   48.2692            OUT018   \n",
            "2                   Meat  141.6180            OUT049   \n",
            "3  Fruits and Vegetables  182.0950            OUT010   \n",
            "4              Household   53.8614            OUT013   \n",
            "\n",
            "   Outlet_Establishment_Year Outlet_Size Outlet_Location_Type  \\\n",
            "0                       1999      Medium               Tier 1   \n",
            "1                       2009      Medium               Tier 3   \n",
            "2                       1999      Medium               Tier 1   \n",
            "3                       1998         NaN               Tier 3   \n",
            "4                       1987        High               Tier 3   \n",
            "\n",
            "         Outlet_Type  Item_Outlet_Sales  \n",
            "0  Supermarket Type1          3735.1380  \n",
            "1  Supermarket Type2           443.4228  \n",
            "2  Supermarket Type1          2097.2700  \n",
            "3      Grocery Store           732.3800  \n",
            "4  Supermarket Type1           994.7052  \n"
          ]
        }
      ]
    },
    {
      "cell_type": "markdown",
      "source": [
        "**Comprobación de celdas null en columna Outlet_Size**: Identificación de casos en función de columna Outlet_Location_Type con la cual se encuentra un patrón extrapolable.  "
      ],
      "metadata": {
        "id": "NUITlQQcmazH"
      }
    },
    {
      "cell_type": "code",
      "source": [
        "# Convertir valores \"Small\", \"Medium\" y \"High\" a valores numéricos\n",
        "df_sales[\"Outlet_Size\"].replace({\"Small\": 1, \"Medium\": 2, \"High\": 3}, inplace=True)\n",
        "\n",
        "# Calcular la media de \"Outlet_Size\" para cada valor único de \"Outlet_Location_Type\"\n",
        "Outlet_Size_mean = df_sales.groupby(\"Outlet_Location_Type\")[\"Outlet_Size\"].mean()\n",
        "\n",
        "# Iterar sobre el DataFrame y reemplazar los valores nulos en la columna \"Outlet_Size\"\n",
        "for idx, row in df_sales.iterrows():\n",
        "    if pd.isnull(row[\"Outlet_Size\"]) and row[\"Outlet_Location_Type\"] in [\"Tier 1\", \"Tier 2\", \"Tier 3\"]:\n",
        "        df_sales.at[idx, \"Outlet_Size\"] = Outlet_Size_mean[row[\"Outlet_Location_Type\"]]\n",
        "\n"
      ],
      "metadata": {
        "id": "oSPSimKDlBVR"
      },
      "execution_count": 87,
      "outputs": []
    },
    {
      "cell_type": "code",
      "source": [
        "# Comprobación\n",
        "\n",
        "df_sales.isnull().sum()"
      ],
      "metadata": {
        "colab": {
          "base_uri": "https://localhost:8080/"
        },
        "id": "ZNijdX4sk8uj",
        "outputId": "23900f82-32f3-43bd-cbaa-4c34fb9624bf"
      },
      "execution_count": 92,
      "outputs": [
        {
          "output_type": "execute_result",
          "data": {
            "text/plain": [
              "Item_Identifier              0\n",
              "Item_Weight                  0\n",
              "Item_Fat_Content             0\n",
              "Item_Visibility              0\n",
              "Item_Type                    0\n",
              "Item_MRP                     0\n",
              "Outlet_Identifier            0\n",
              "Outlet_Establishment_Year    0\n",
              "Outlet_Size                  0\n",
              "Outlet_Location_Type         0\n",
              "Outlet_Type                  0\n",
              "Item_Outlet_Sales            0\n",
              "dtype: int64"
            ]
          },
          "metadata": {},
          "execution_count": 92
        }
      ]
    },
    {
      "cell_type": "markdown",
      "source": [
        "**Uniformidad en respuesta columna Item_Fat_Content**: Cambio 56 celdas \"LF\" por \"Low Fat\" y 117 \"reg\" por \"Regular\""
      ],
      "metadata": {
        "id": "qbNz1N0XeOUg"
      }
    },
    {
      "cell_type": "code",
      "source": [
        "import sqlite3\n",
        "\n",
        "# Crear una conexión a la base de datos\n",
        "conn = sqlite3.connect(\"example.db\")\n",
        "\n",
        "# Crear la tabla \"sales_predictions\" en la base de datos\n",
        "create_table_query = \"\"\"\n",
        "CREATE TABLE IF NOT EXISTS sales_predictions (\n",
        "       Item_Weight FLOAT,\n",
        "       Item_Fat_Content TEXT,\n",
        "       Item_Visibility FLOAT,\n",
        "       Item_Type TEXT,\n",
        "       Item_MRP FLOAT,\n",
        "       Outlet_Identifier TEXT,\n",
        "       Outlet_Establishment_Year INTEGER,\n",
        "       Outlet_Size TEXT,\n",
        "       Outlet_Location_Type TEXT,\n",
        "       Outlet_Type TEXT,\n",
        "       Item_Outlet_Sales FLOAT\n",
        ")\n",
        "\"\"\"\n",
        "conn.execute(create_table_query)\n",
        "\n",
        "# Cargar los datos de la tabla en un DataFrame\n",
        "df_sales = pd.read_csv(\"sales_predictions.csv\")\n",
        "\n",
        "# Reemplazar los valores en el DataFrame\n",
        "df_sales[\"Item_Fat_Content\"] = df_sales[\"Item_Fat_Content\"].replace({\"LF\": \"Low Fat\", \"reg\": \"Regular\"})\n",
        "\n",
        "# Escribir los datos actualizados en la tabla de la base de datos\n",
        "df_sales.to_sql(\"sales_predictions\", conn, if_exists=\"replace\", index=False)\n",
        "\n",
        "# Cargar los datos actualizados en un nuevo DataFrame\n",
        "df_sales_actualizado = pd.read_sql_query('SELECT * FROM sales_predictions', conn)\n",
        "\n",
        "# Comparar los valores de ambas tablas\n",
        "print(df_sales.head())\n",
        "print(df_sales_actualizado.head())\n"
      ],
      "metadata": {
        "colab": {
          "base_uri": "https://localhost:8080/"
        },
        "id": "XoSIcoxyVHnm",
        "outputId": "28fb83f8-9794-4d1d-eb8f-e0b5e427cb5b"
      },
      "execution_count": 57,
      "outputs": [
        {
          "output_type": "stream",
          "name": "stdout",
          "text": [
            "  Item_Identifier  Item_Weight Item_Fat_Content  Item_Visibility  \\\n",
            "0           FDA15         9.30          Low Fat         0.016047   \n",
            "1           DRC01         5.92          Regular         0.019278   \n",
            "2           FDN15        17.50          Low Fat         0.016760   \n",
            "3           FDX07        19.20          Regular         0.000000   \n",
            "4           NCD19         8.93          Low Fat         0.000000   \n",
            "\n",
            "               Item_Type  Item_MRP Outlet_Identifier  \\\n",
            "0                  Dairy  249.8092            OUT049   \n",
            "1            Soft Drinks   48.2692            OUT018   \n",
            "2                   Meat  141.6180            OUT049   \n",
            "3  Fruits and Vegetables  182.0950            OUT010   \n",
            "4              Household   53.8614            OUT013   \n",
            "\n",
            "   Outlet_Establishment_Year Outlet_Size Outlet_Location_Type  \\\n",
            "0                       1999      Medium               Tier 1   \n",
            "1                       2009      Medium               Tier 3   \n",
            "2                       1999      Medium               Tier 1   \n",
            "3                       1998         NaN               Tier 3   \n",
            "4                       1987        High               Tier 3   \n",
            "\n",
            "         Outlet_Type  Item_Outlet_Sales  \n",
            "0  Supermarket Type1          3735.1380  \n",
            "1  Supermarket Type2           443.4228  \n",
            "2  Supermarket Type1          2097.2700  \n",
            "3      Grocery Store           732.3800  \n",
            "4  Supermarket Type1           994.7052  \n",
            "  Item_Identifier  Item_Weight Item_Fat_Content  Item_Visibility  \\\n",
            "0           FDA15         9.30          Low Fat         0.016047   \n",
            "1           DRC01         5.92          Regular         0.019278   \n",
            "2           FDN15        17.50          Low Fat         0.016760   \n",
            "3           FDX07        19.20          Regular         0.000000   \n",
            "4           NCD19         8.93          Low Fat         0.000000   \n",
            "\n",
            "               Item_Type  Item_MRP Outlet_Identifier  \\\n",
            "0                  Dairy  249.8092            OUT049   \n",
            "1            Soft Drinks   48.2692            OUT018   \n",
            "2                   Meat  141.6180            OUT049   \n",
            "3  Fruits and Vegetables  182.0950            OUT010   \n",
            "4              Household   53.8614            OUT013   \n",
            "\n",
            "   Outlet_Establishment_Year Outlet_Size Outlet_Location_Type  \\\n",
            "0                       1999      Medium               Tier 1   \n",
            "1                       2009      Medium               Tier 3   \n",
            "2                       1999      Medium               Tier 1   \n",
            "3                       1998        None               Tier 3   \n",
            "4                       1987        High               Tier 3   \n",
            "\n",
            "         Outlet_Type  Item_Outlet_Sales  \n",
            "0  Supermarket Type1          3735.1380  \n",
            "1  Supermarket Type2           443.4228  \n",
            "2  Supermarket Type1          2097.2700  \n",
            "3      Grocery Store           732.3800  \n",
            "4  Supermarket Type1           994.7052  \n"
          ]
        }
      ]
    },
    {
      "cell_type": "code",
      "source": [
        "\n",
        "# Cargar los datos actualizados en un nuevo DataFrame\n",
        "df_sales_actualizado = pd.read_sql_query('SELECT * FROM sales_predictions', conn)\n",
        "\n",
        "# Contar el número de cambios en cada columna\n",
        "num_changes = df_sales_actualizado[[\"Item_Fat_Content\"]].isin({\"LF\": \"Low Fat\", \"reg\": \"Regular\"}).sum()\n",
        "\n",
        "# Imprimir el número de cambios\n",
        "print(\"Número de cambios:\")\n",
        "print(num_changes)\n"
      ],
      "metadata": {
        "colab": {
          "base_uri": "https://localhost:8080/"
        },
        "id": "6rlOSmkDfPGR",
        "outputId": "f4ffa9d7-5e33-49ea-9b93-4a4c085cee81"
      },
      "execution_count": 58,
      "outputs": [
        {
          "output_type": "stream",
          "name": "stdout",
          "text": [
            "Número de cambios:\n",
            "Item_Fat_Content    0\n",
            "dtype: int64\n"
          ]
        }
      ]
    },
    {
      "cell_type": "code",
      "source": [
        "df_sales.info()"
      ],
      "metadata": {
        "colab": {
          "base_uri": "https://localhost:8080/"
        },
        "id": "jNlALsetvPSy",
        "outputId": "ac37a5f3-1a8f-4d87-850a-2341fa70d77b"
      },
      "execution_count": 89,
      "outputs": [
        {
          "output_type": "stream",
          "name": "stdout",
          "text": [
            "<class 'pandas.core.frame.DataFrame'>\n",
            "Int64Index: 7060 entries, 0 to 8522\n",
            "Data columns (total 12 columns):\n",
            " #   Column                     Non-Null Count  Dtype  \n",
            "---  ------                     --------------  -----  \n",
            " 0   Item_Identifier            7060 non-null   object \n",
            " 1   Item_Weight                7060 non-null   float64\n",
            " 2   Item_Fat_Content           7060 non-null   object \n",
            " 3   Item_Visibility            7060 non-null   float64\n",
            " 4   Item_Type                  7060 non-null   object \n",
            " 5   Item_MRP                   7060 non-null   float64\n",
            " 6   Outlet_Identifier          7060 non-null   object \n",
            " 7   Outlet_Establishment_Year  7060 non-null   int64  \n",
            " 8   Outlet_Size                7060 non-null   float64\n",
            " 9   Outlet_Location_Type       7060 non-null   object \n",
            " 10  Outlet_Type                7060 non-null   object \n",
            " 11  Item_Outlet_Sales          7060 non-null   float64\n",
            "dtypes: float64(5), int64(1), object(6)\n",
            "memory usage: 975.1+ KB\n"
          ]
        }
      ]
    },
    {
      "cell_type": "markdown",
      "source": [
        "---\n",
        "# **3. Análisis de dispersión de datos por variable**\n",
        "\n",
        "---\n"
      ],
      "metadata": {
        "id": "YszBcCwQQlPk"
      }
    },
    {
      "cell_type": "markdown",
      "source": [
        "**Análisis**: Las variables Item_Visibility, Item_MRP e Item_Outlet_Sales, presentan variaciones muy dispersas. Entre 4 y 7 desviaciones estandar de cada 10 analizadas se alejan del promedio. Esto nos puede dar a entender que la dispersión de datos es alta, sin embargo, dado que son productos de diferentes caracteristicas se anota que este analisis se debe realizarse por item. Dado nuestro objetivo de analisis de ventas es necesario analizar la correlación de las variables para entender la varianza."
      ],
      "metadata": {
        "id": "bb2vH44AQriS"
      }
    },
    {
      "cell_type": "code",
      "source": [
        "df_sales.describe().round(2)\n"
      ],
      "metadata": {
        "colab": {
          "base_uri": "https://localhost:8080/",
          "height": 300
        },
        "id": "3tXft72hLkTH",
        "outputId": "55d5d6ad-63d3-4f7a-82e4-ae83b61eabeb"
      },
      "execution_count": 93,
      "outputs": [
        {
          "output_type": "execute_result",
          "data": {
            "text/plain": [
              "       Item_Weight  Item_Visibility  Item_MRP  Outlet_Establishment_Year  \\\n",
              "count      7060.00          7060.00   7060.00                    7060.00   \n",
              "mean         12.86             0.06    141.24                    2000.49   \n",
              "std           4.64             0.05     62.41                       6.59   \n",
              "min           4.56             0.00     31.49                    1987.00   \n",
              "25%           8.77             0.03     94.14                    1997.00   \n",
              "50%          12.60             0.05    142.73                    2002.00   \n",
              "75%          16.85             0.09    186.02                    2007.00   \n",
              "max          21.35             0.31    266.89                    2009.00   \n",
              "\n",
              "       Outlet_Size  Item_Outlet_Sales  \n",
              "count      7060.00            7060.00  \n",
              "mean          1.65            2118.63  \n",
              "std           0.74            1533.45  \n",
              "min           1.00              33.29  \n",
              "25%           1.00             922.80  \n",
              "50%           1.00            1789.67  \n",
              "75%           2.00            2966.14  \n",
              "max           3.00           10256.65  "
            ],
            "text/html": [
              "\n",
              "  <div id=\"df-bf614c8b-b4ed-4214-b247-fe39f043311e\">\n",
              "    <div class=\"colab-df-container\">\n",
              "      <div>\n",
              "<style scoped>\n",
              "    .dataframe tbody tr th:only-of-type {\n",
              "        vertical-align: middle;\n",
              "    }\n",
              "\n",
              "    .dataframe tbody tr th {\n",
              "        vertical-align: top;\n",
              "    }\n",
              "\n",
              "    .dataframe thead th {\n",
              "        text-align: right;\n",
              "    }\n",
              "</style>\n",
              "<table border=\"1\" class=\"dataframe\">\n",
              "  <thead>\n",
              "    <tr style=\"text-align: right;\">\n",
              "      <th></th>\n",
              "      <th>Item_Weight</th>\n",
              "      <th>Item_Visibility</th>\n",
              "      <th>Item_MRP</th>\n",
              "      <th>Outlet_Establishment_Year</th>\n",
              "      <th>Outlet_Size</th>\n",
              "      <th>Item_Outlet_Sales</th>\n",
              "    </tr>\n",
              "  </thead>\n",
              "  <tbody>\n",
              "    <tr>\n",
              "      <th>count</th>\n",
              "      <td>7060.00</td>\n",
              "      <td>7060.00</td>\n",
              "      <td>7060.00</td>\n",
              "      <td>7060.00</td>\n",
              "      <td>7060.00</td>\n",
              "      <td>7060.00</td>\n",
              "    </tr>\n",
              "    <tr>\n",
              "      <th>mean</th>\n",
              "      <td>12.86</td>\n",
              "      <td>0.06</td>\n",
              "      <td>141.24</td>\n",
              "      <td>2000.49</td>\n",
              "      <td>1.65</td>\n",
              "      <td>2118.63</td>\n",
              "    </tr>\n",
              "    <tr>\n",
              "      <th>std</th>\n",
              "      <td>4.64</td>\n",
              "      <td>0.05</td>\n",
              "      <td>62.41</td>\n",
              "      <td>6.59</td>\n",
              "      <td>0.74</td>\n",
              "      <td>1533.45</td>\n",
              "    </tr>\n",
              "    <tr>\n",
              "      <th>min</th>\n",
              "      <td>4.56</td>\n",
              "      <td>0.00</td>\n",
              "      <td>31.49</td>\n",
              "      <td>1987.00</td>\n",
              "      <td>1.00</td>\n",
              "      <td>33.29</td>\n",
              "    </tr>\n",
              "    <tr>\n",
              "      <th>25%</th>\n",
              "      <td>8.77</td>\n",
              "      <td>0.03</td>\n",
              "      <td>94.14</td>\n",
              "      <td>1997.00</td>\n",
              "      <td>1.00</td>\n",
              "      <td>922.80</td>\n",
              "    </tr>\n",
              "    <tr>\n",
              "      <th>50%</th>\n",
              "      <td>12.60</td>\n",
              "      <td>0.05</td>\n",
              "      <td>142.73</td>\n",
              "      <td>2002.00</td>\n",
              "      <td>1.00</td>\n",
              "      <td>1789.67</td>\n",
              "    </tr>\n",
              "    <tr>\n",
              "      <th>75%</th>\n",
              "      <td>16.85</td>\n",
              "      <td>0.09</td>\n",
              "      <td>186.02</td>\n",
              "      <td>2007.00</td>\n",
              "      <td>2.00</td>\n",
              "      <td>2966.14</td>\n",
              "    </tr>\n",
              "    <tr>\n",
              "      <th>max</th>\n",
              "      <td>21.35</td>\n",
              "      <td>0.31</td>\n",
              "      <td>266.89</td>\n",
              "      <td>2009.00</td>\n",
              "      <td>3.00</td>\n",
              "      <td>10256.65</td>\n",
              "    </tr>\n",
              "  </tbody>\n",
              "</table>\n",
              "</div>\n",
              "      <button class=\"colab-df-convert\" onclick=\"convertToInteractive('df-bf614c8b-b4ed-4214-b247-fe39f043311e')\"\n",
              "              title=\"Convert this dataframe to an interactive table.\"\n",
              "              style=\"display:none;\">\n",
              "        \n",
              "  <svg xmlns=\"http://www.w3.org/2000/svg\" height=\"24px\"viewBox=\"0 0 24 24\"\n",
              "       width=\"24px\">\n",
              "    <path d=\"M0 0h24v24H0V0z\" fill=\"none\"/>\n",
              "    <path d=\"M18.56 5.44l.94 2.06.94-2.06 2.06-.94-2.06-.94-.94-2.06-.94 2.06-2.06.94zm-11 1L8.5 8.5l.94-2.06 2.06-.94-2.06-.94L8.5 2.5l-.94 2.06-2.06.94zm10 10l.94 2.06.94-2.06 2.06-.94-2.06-.94-.94-2.06-.94 2.06-2.06.94z\"/><path d=\"M17.41 7.96l-1.37-1.37c-.4-.4-.92-.59-1.43-.59-.52 0-1.04.2-1.43.59L10.3 9.45l-7.72 7.72c-.78.78-.78 2.05 0 2.83L4 21.41c.39.39.9.59 1.41.59.51 0 1.02-.2 1.41-.59l7.78-7.78 2.81-2.81c.8-.78.8-2.07 0-2.86zM5.41 20L4 18.59l7.72-7.72 1.47 1.35L5.41 20z\"/>\n",
              "  </svg>\n",
              "      </button>\n",
              "      \n",
              "  <style>\n",
              "    .colab-df-container {\n",
              "      display:flex;\n",
              "      flex-wrap:wrap;\n",
              "      gap: 12px;\n",
              "    }\n",
              "\n",
              "    .colab-df-convert {\n",
              "      background-color: #E8F0FE;\n",
              "      border: none;\n",
              "      border-radius: 50%;\n",
              "      cursor: pointer;\n",
              "      display: none;\n",
              "      fill: #1967D2;\n",
              "      height: 32px;\n",
              "      padding: 0 0 0 0;\n",
              "      width: 32px;\n",
              "    }\n",
              "\n",
              "    .colab-df-convert:hover {\n",
              "      background-color: #E2EBFA;\n",
              "      box-shadow: 0px 1px 2px rgba(60, 64, 67, 0.3), 0px 1px 3px 1px rgba(60, 64, 67, 0.15);\n",
              "      fill: #174EA6;\n",
              "    }\n",
              "\n",
              "    [theme=dark] .colab-df-convert {\n",
              "      background-color: #3B4455;\n",
              "      fill: #D2E3FC;\n",
              "    }\n",
              "\n",
              "    [theme=dark] .colab-df-convert:hover {\n",
              "      background-color: #434B5C;\n",
              "      box-shadow: 0px 1px 3px 1px rgba(0, 0, 0, 0.15);\n",
              "      filter: drop-shadow(0px 1px 2px rgba(0, 0, 0, 0.3));\n",
              "      fill: #FFFFFF;\n",
              "    }\n",
              "  </style>\n",
              "\n",
              "      <script>\n",
              "        const buttonEl =\n",
              "          document.querySelector('#df-bf614c8b-b4ed-4214-b247-fe39f043311e button.colab-df-convert');\n",
              "        buttonEl.style.display =\n",
              "          google.colab.kernel.accessAllowed ? 'block' : 'none';\n",
              "\n",
              "        async function convertToInteractive(key) {\n",
              "          const element = document.querySelector('#df-bf614c8b-b4ed-4214-b247-fe39f043311e');\n",
              "          const dataTable =\n",
              "            await google.colab.kernel.invokeFunction('convertToInteractive',\n",
              "                                                     [key], {});\n",
              "          if (!dataTable) return;\n",
              "\n",
              "          const docLinkHtml = 'Like what you see? Visit the ' +\n",
              "            '<a target=\"_blank\" href=https://colab.research.google.com/notebooks/data_table.ipynb>data table notebook</a>'\n",
              "            + ' to learn more about interactive tables.';\n",
              "          element.innerHTML = '';\n",
              "          dataTable['output_type'] = 'display_data';\n",
              "          await google.colab.output.renderOutput(dataTable, element);\n",
              "          const docLink = document.createElement('div');\n",
              "          docLink.innerHTML = docLinkHtml;\n",
              "          element.appendChild(docLink);\n",
              "        }\n",
              "      </script>\n",
              "    </div>\n",
              "  </div>\n",
              "  "
            ]
          },
          "metadata": {},
          "execution_count": 93
        }
      ]
    },
    {
      "cell_type": "code",
      "source": [
        "import numpy as np\n",
        "\n",
        "# Seleccionar solo las columnas numéricas\n",
        "df_numeric = df_sales.select_dtypes(include=np.number)\n",
        "\n",
        "# Calcular la desviación estándar y el promedio solo en las columnas numéricas\n",
        "desv_std = df_numeric.std().tolist()\n",
        "promedio = df_numeric.mean().tolist()\n",
        "\n",
        "# Calcular el resultado y redondearlo a 2 decimales\n",
        "resultado = [(a / b) * 100 for a, b in zip(desv_std, promedio)]\n",
        "resultado = [round(x, 2) for x in resultado]\n",
        "\n",
        "# Crear un DataFrame con el resultado y mostrarlo\n",
        "tabla = pd.DataFrame({\"Varianza (%)\": resultado}, index=df_numeric.columns)\n",
        "print(tabla)\n"
      ],
      "metadata": {
        "colab": {
          "base_uri": "https://localhost:8080/"
        },
        "id": "W6eYKqPLrYea",
        "outputId": "97b378b4-bcfd-456f-f01f-3a93d6f420d7"
      },
      "execution_count": 94,
      "outputs": [
        {
          "output_type": "stream",
          "name": "stdout",
          "text": [
            "                           Varianza (%)\n",
            "Item_Weight                       36.11\n",
            "Item_Visibility                   76.02\n",
            "Item_MRP                          44.19\n",
            "Outlet_Establishment_Year          0.33\n",
            "Outlet_Size                       45.17\n",
            "Item_Outlet_Sales                 72.38\n"
          ]
        }
      ]
    },
    {
      "cell_type": "markdown",
      "source": [
        "**Graficación**: Operación de variables para analisis a través de histogramas"
      ],
      "metadata": {
        "id": "euKIyjl1SKMH"
      }
    },
    {
      "cell_type": "code",
      "source": [
        "numerical_features = [\"Item_Weight\", \"Item_Visibility\", \"Item_MRP\", \"Outlet_Establishment_Year\", \"Item_Outlet_Sales\"]"
      ],
      "metadata": {
        "id": "rPruBCOHL-e3"
      },
      "execution_count": 97,
      "outputs": []
    },
    {
      "cell_type": "code",
      "source": [
        "categorical_features = [\"Item_Identifier\", \"Item_Fat_Content\", \"Item_Type\", \"Item_MRP\", \"Outlet_Identifier\", \"Outlet_Size\", \"Outlet_Location_Type\", \"Outlet_Type\"]"
      ],
      "metadata": {
        "id": "mIuohicaMBf8"
      },
      "execution_count": 96,
      "outputs": []
    },
    {
      "cell_type": "code",
      "source": [
        "numerical_features\n",
        "[\"Item_Weight\", \n",
        " \"Item_Visibility\", \n",
        " \"Item_MRP\", \n",
        " \"Outlet_Establishment_Year\", \n",
        " \"Item_Outlet_Sales\"]"
      ],
      "metadata": {
        "colab": {
          "base_uri": "https://localhost:8080/"
        },
        "id": "e51YFfCQMCmN",
        "outputId": "98076e97-0b18-4e27-d527-fd987b11c23f"
      },
      "execution_count": 98,
      "outputs": [
        {
          "output_type": "execute_result",
          "data": {
            "text/plain": [
              "['Item_Weight',\n",
              " 'Item_Visibility',\n",
              " 'Item_MRP',\n",
              " 'Outlet_Establishment_Year',\n",
              " 'Item_Outlet_Sales']"
            ]
          },
          "metadata": {},
          "execution_count": 98
        }
      ]
    },
    {
      "cell_type": "code",
      "source": [
        "categorical_features \n",
        "[\"Item_Identifier\", \n",
        " \"Item_Fat_Content\", \n",
        " \"Item_Type\", \n",
        " \"Item_MRP\", \n",
        " \"Outlet_Identifier\", \n",
        " \"Outlet_Size\", \n",
        " \"Outlet_Location_Type\", \n",
        " \"Outlet_Type\"]"
      ],
      "metadata": {
        "colab": {
          "base_uri": "https://localhost:8080/"
        },
        "id": "y_QvPAKcMHAr",
        "outputId": "ab363f45-8075-4de0-edae-cd1e0c6205f0"
      },
      "execution_count": 99,
      "outputs": [
        {
          "output_type": "execute_result",
          "data": {
            "text/plain": [
              "['Item_Identifier',\n",
              " 'Item_Fat_Content',\n",
              " 'Item_Type',\n",
              " 'Item_MRP',\n",
              " 'Outlet_Identifier',\n",
              " 'Outlet_Size',\n",
              " 'Outlet_Location_Type',\n",
              " 'Outlet_Type']"
            ]
          },
          "metadata": {},
          "execution_count": 99
        }
      ]
    },
    {
      "cell_type": "code",
      "source": [
        "import matplotlib.pyplot as plt\n",
        "\n",
        "def desc_num_feature(df, feature_name):\n",
        "    if df_sales[feature_name].dtype == \"float64\" or df[feature_name].dtype == \"int64\":\n",
        "        if feature_name != \"Item_Identifier\":\n",
        "            fig, ax = plt.subplots(figsize=(10.4, 7.8))\n",
        "            df_sales[feature_name].hist(bins=30, edgecolor=\"b\")\n",
        "            ax.set_title(feature_name, size=25)\n",
        "            print(df[feature_name].describe().apply(lambda x: round(x, 2)))\n",
        "        else:\n",
        "            print(f\"{feature_name} is not a numeric feature.\")\n",
        "    else:\n",
        "        print(f\"{feature_name} is not a numeric feature.\")\n",
        "\n"
      ],
      "metadata": {
        "id": "j1VOdaSGMJwx"
      },
      "execution_count": 100,
      "outputs": []
    },
    {
      "cell_type": "code",
      "source": [
        "# Iterar a través de la lista de nombres de características numéricas y llamar a la función desc_num_feature para cada una\n",
        "for feature_name in numerical_features:\n",
        "    desc_num_feature(df_sales, feature_name)"
      ],
      "metadata": {
        "colab": {
          "base_uri": "https://localhost:8080/",
          "height": 1000
        },
        "id": "LjCM1vr7MNTM",
        "outputId": "33beece4-2032-4271-a9db-03a97d97e79f"
      },
      "execution_count": 101,
      "outputs": [
        {
          "output_type": "stream",
          "name": "stdout",
          "text": [
            "count    7060.00\n",
            "mean       12.86\n",
            "std         4.64\n",
            "min         4.55\n",
            "25%         8.77\n",
            "50%        12.60\n",
            "75%        16.85\n",
            "max        21.35\n",
            "Name: Item_Weight, dtype: float64\n",
            "count    7060.00\n",
            "mean        0.06\n",
            "std         0.05\n",
            "min         0.00\n",
            "25%         0.03\n",
            "50%         0.05\n",
            "75%         0.09\n",
            "max         0.31\n",
            "Name: Item_Visibility, dtype: float64\n",
            "count    7060.00\n",
            "mean      141.24\n",
            "std        62.41\n",
            "min        31.49\n",
            "25%        94.14\n",
            "50%       142.73\n",
            "75%       186.02\n",
            "max       266.89\n",
            "Name: Item_MRP, dtype: float64\n",
            "count    7060.00\n",
            "mean     2000.49\n",
            "std         6.59\n",
            "min      1987.00\n",
            "25%      1997.00\n",
            "50%      2002.00\n",
            "75%      2007.00\n",
            "max      2009.00\n",
            "Name: Outlet_Establishment_Year, dtype: float64\n",
            "count     7060.00\n",
            "mean      2118.63\n",
            "std       1533.45\n",
            "min         33.29\n",
            "25%        922.80\n",
            "50%       1789.67\n",
            "75%       2966.14\n",
            "max      10256.65\n",
            "Name: Item_Outlet_Sales, dtype: float64\n"
          ]
        },
        {
          "output_type": "display_data",
          "data": {
            "text/plain": [
              "<Figure size 748.8x561.6 with 1 Axes>"
            ],
            "image/png": "[encoded data removed]"
          },
          "metadata": {
            "needs_background": "light"
          }
        },
        {
          "output_type": "display_data",
          "data": {
            "text/plain": [
              "<Figure size 748.8x561.6 with 1 Axes>"
            ],
            "image/png": "[encoded data removed]"
          },
          "metadata": {
            "needs_background": "light"
          }
        },
        {
          "output_type": "display_data",
          "data": {
            "text/plain": [
              "<Figure size 748.8x561.6 with 1 Axes>"
            ],
            "image/png": "[encoded data removed]"
          },
          "metadata": {
            "needs_background": "light"
          }
        },
        {
          "output_type": "display_data",
          "data": {
            "text/plain": [
              "<Figure size 748.8x561.6 with 1 Axes>"
            ],
            "image/png": "[encoded data removed]"
          },
          "metadata": {
            "needs_background": "light"
          }
        },
        {
          "output_type": "display_data",
          "data": {
            "text/plain": [
              "<Figure size 748.8x561.6 with 1 Axes>"
            ],
            "image/png": "[encoded data removed]"
          },
          "metadata": {
            "needs_background": "light"
          }
        }
      ]
    },
    {
      "cell_type": "markdown",
      "source": [
        "**Correlación**: Explica para efectos de análisis estrategico cual de las variables influencia con su corelación directa o inversa los resultados esperados, que para objeto de este análisis se prioriza las ventas. Así se puede ver que hay 2 variables tiene relación media y directa (r=0.62). El nivel de ventas (Item_Outlet_Sales) varia en la medida que se gestione adecuadamente Precio máximo de venta al público (precio de catálogo) del producto (Item_MRP). "
      ],
      "metadata": {
        "id": "PmyVTdwx5_H8"
      }
    },
    {
      "cell_type": "code",
      "source": [
        "import matplotlib.pyplot as plt\n",
        "import seaborn as sns\n",
        "\n",
        "plt.figure(figsize=(20, 7))\n",
        "heatmap = sns.heatmap(df_sales.corr(), cmap=\"viridis\", annot=True)\n",
        "heatmap.set_title(\"Matriz de Correlación\", fontdict={\"fontsize\": 25}, pad=12)\n",
        "plt.show()\n"
      ],
      "metadata": {
        "colab": {
          "base_uri": "https://localhost:8080/",
          "height": 445
        },
        "id": "tRPkYKYGj1-W",
        "outputId": "73284d1d-1426-42ed-9c4f-6e9c937ff548"
      },
      "execution_count": 95,
      "outputs": [
        {
          "output_type": "display_data",
          "data": {
            "text/plain": [
              "<Figure size 1440x504 with 2 Axes>"
            ],
            "image/png": "[encoded data removed]"
          },
          "metadata": {
            "needs_background": "light"
          }
        }
      ]
    }
  ]
}